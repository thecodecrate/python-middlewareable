{
 "cells": [
  {
   "cell_type": "markdown",
   "metadata": {},
   "source": [
    "# Trait `AutoStructurable`"
   ]
  },
  {
   "cell_type": "code",
   "execution_count": 2,
   "metadata": {},
   "outputs": [
    {
     "name": "stdout",
     "output_type": "stream",
     "text": [
      "ResponseData(value='John from OneMiddleware from TwoMiddleware')\n"
     ]
    }
   ],
   "source": [
    "# import classes\n",
    "from dataclasses import dataclass\n",
    "from python_middlewareable import (\n",
    "    RequestBase,\n",
    "    MiddlewareBase,\n",
    "    MiddlewareNextCallBase,\n",
    "    MiddlewareableBase,\n",
    "    DataStructurableRequestMixin,\n",
    "    RequestDataBase,\n",
    "    ResponseDataBase,\n",
    "    TransportDataBase,\n",
    "    AutoStructurable,\n",
    ")\n",
    "\n",
    "\n",
    "# define a payload structure\n",
    "@dataclass\n",
    "class RequestData(RequestDataBase):  # inherit from RequestDataBase\n",
    "    name: str\n",
    "\n",
    "\n",
    "# define a response structure\n",
    "@dataclass\n",
    "class ResponseData(ResponseDataBase):  # inherit from ResponseDataBase\n",
    "    value: str = \"\"\n",
    "\n",
    "\n",
    "# add the `DataStructurableRequestMixin` to the request class\n",
    "@dataclass\n",
    "class Request(\n",
    "    DataStructurableRequestMixin[RequestData, ResponseData, TransportDataBase],\n",
    "    RequestBase,\n",
    "):\n",
    "    pass\n",
    "\n",
    "\n",
    "# define middlewares\n",
    "class OneMiddleware(MiddlewareBase[Request]):\n",
    "    async def handle(\n",
    "        self, request: Request, next_call: MiddlewareNextCallBase[Request]\n",
    "    ) -> Request:\n",
    "        request.response_data.value = request.request_data.name\n",
    "\n",
    "        request.response_data.value += \" from OneMiddleware\"\n",
    "\n",
    "        result = await next_call(request)\n",
    "\n",
    "        return result\n",
    "\n",
    "\n",
    "class TwoMiddleware(MiddlewareBase[Request]):\n",
    "    async def handle(\n",
    "        self, request: Request, next_call: MiddlewareNextCallBase[Request]\n",
    "    ) -> Request:\n",
    "        request.response_data.value += \" from TwoMiddleware\"\n",
    "\n",
    "        result = await next_call(request)\n",
    "\n",
    "        return result\n",
    "\n",
    "\n",
    "# add `AutoStructurable` to the middlewareable\n",
    "class App(\n",
    "    AutoStructurable[Request, ResponseData, TransportDataBase],\n",
    "    MiddlewareableBase[Request],\n",
    "):\n",
    "    middlewares = [OneMiddleware, TwoMiddleware]\n",
    "\n",
    "    # same classes passed to \"AutoStructurable\" above\n",
    "    request_class = Request\n",
    "    response_data_class = ResponseData\n",
    "    transport_data_class = TransportDataBase\n",
    "\n",
    "\n",
    "# middlewareable\n",
    "app = App()\n",
    "\n",
    "# process request\n",
    "result = await app.process_middlewares_from_payload(\n",
    "    data=RequestData(name=\"John\")\n",
    ")\n",
    "\n",
    "# check the result\n",
    "print(result)\n",
    "\n",
    "# output:\n",
    "# ResponseData(value='John from OneMiddleware from TwoMiddleware')"
   ]
  }
 ],
 "metadata": {
  "kernelspec": {
   "display_name": "myenv",
   "language": "python",
   "name": "python3"
  },
  "language_info": {
   "codemirror_mode": {
    "name": "ipython",
    "version": 3
   },
   "file_extension": ".py",
   "mimetype": "text/x-python",
   "name": "python",
   "nbconvert_exporter": "python",
   "pygments_lexer": "ipython3",
   "version": "3.11.9"
  }
 },
 "nbformat": 4,
 "nbformat_minor": 2
}
