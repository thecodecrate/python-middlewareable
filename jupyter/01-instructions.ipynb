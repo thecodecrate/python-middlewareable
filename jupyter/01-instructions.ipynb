{
 "cells": [
  {
   "cell_type": "markdown",
   "metadata": {},
   "source": [
    "## Usage"
   ]
  },
  {
   "cell_type": "code",
   "execution_count": 1,
   "metadata": {},
   "outputs": [
    {
     "name": "stdout",
     "output_type": "stream",
     "text": [
      "OneMiddleware before\n",
      "OneMiddleware after\n",
      "Hello from OneMiddleware\n"
     ]
    }
   ],
   "source": [
    "# import classes\n",
    "from dataclasses import dataclass\n",
    "from src import (\n",
    "    MiddlewareBase,\n",
    "    MiddlewareNextCallBase,\n",
    "    MiddlewareableBase,\n",
    "    RequestBase,\n",
    ")\n",
    "\n",
    "\n",
    "# define a payload\n",
    "@dataclass\n",
    "class Request(RequestBase):\n",
    "    name: str\n",
    "\n",
    "\n",
    "# create a middleware\n",
    "class OneMiddleware(MiddlewareBase[Request]):\n",
    "    async def handle(\n",
    "        self,\n",
    "        request: Request,\n",
    "        next_call: MiddlewareNextCallBase[Request],\n",
    "    ) -> None:\n",
    "        print(\"OneMiddleware before\")\n",
    "        await next_call(request)\n",
    "        print(\"OneMiddleware after\")\n",
    "\n",
    "        request.name = request.name + \" from OneMiddleware\"\n",
    "\n",
    "\n",
    "# add the `middlewareable` mixin to the class that will use the middleware\n",
    "class App(MiddlewareableBase[Request]):\n",
    "    middlewares = [OneMiddleware]\n",
    "\n",
    "\n",
    "# instantiate and use it\n",
    "app = App()\n",
    "request = Request(name=\"Hello\")\n",
    "await app.process_middlewares(request)\n",
    "\n",
    "# check the result\n",
    "print(request.name)\n",
    "\n",
    "# output:\n",
    "# OneMiddleware before\n",
    "# OneMiddleware after\n",
    "# Hello from OneMiddleware"
   ]
  }
 ],
 "metadata": {
  "kernelspec": {
   "display_name": "myenv",
   "language": "python",
   "name": "python3"
  },
  "language_info": {
   "codemirror_mode": {
    "name": "ipython",
    "version": 3
   },
   "file_extension": ".py",
   "mimetype": "text/x-python",
   "name": "python",
   "nbconvert_exporter": "python",
   "pygments_lexer": "ipython3",
   "version": "3.11.9"
  }
 },
 "nbformat": 4,
 "nbformat_minor": 2
}
