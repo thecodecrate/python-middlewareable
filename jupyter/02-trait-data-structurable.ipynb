{
 "cells": [
  {
   "cell_type": "markdown",
   "metadata": {},
   "source": [
    "# Trait `DataStructurable`"
   ]
  },
  {
   "cell_type": "code",
   "execution_count": 1,
   "metadata": {},
   "outputs": [
    {
     "name": "stdout",
     "output_type": "stream",
     "text": [
      "Request(request_data=RequestData(name='John'), response_data=ResponseData(value='John from OneMiddleware from TwoMiddleware'), transport_data=<python_middlewareable.traits.data_structurable.dtos.transport_data.TransportData object at 0x7fc69c724c10>)\n"
     ]
    }
   ],
   "source": [
    "# import classes\n",
    "from dataclasses import dataclass\n",
    "from python_middlewareable import (\n",
    "    RequestBase,\n",
    "    MiddlewareBase,\n",
    "    MiddlewareNextCallBase,\n",
    "    MiddlewareableBase,\n",
    "    DataStructurableRequestMixin,\n",
    "    DataStructurable,\n",
    "    RequestDataBase,\n",
    "    ResponseDataBase,\n",
    "    TransportDataBase,\n",
    ")\n",
    "\n",
    "\n",
    "# define a payload structure\n",
    "@dataclass\n",
    "class RequestData(RequestDataBase):  # inherit from RequestDataBase\n",
    "    name: str\n",
    "\n",
    "\n",
    "# define a response structure\n",
    "@dataclass\n",
    "class ResponseData(ResponseDataBase):  # inherit from ResponseDataBase\n",
    "    value: str = \"\"\n",
    "\n",
    "\n",
    "# add the `DataStructurableRequestMixin` to the request class\n",
    "@dataclass\n",
    "class Request(\n",
    "    DataStructurableRequestMixin[RequestData, ResponseData, TransportDataBase],\n",
    "    RequestBase,\n",
    "):\n",
    "    pass\n",
    "\n",
    "\n",
    "# define middlewares\n",
    "class OneMiddleware(MiddlewareBase[Request]):\n",
    "    async def handle(\n",
    "        self, request: Request, next_call: MiddlewareNextCallBase[Request]\n",
    "    ) -> Request:\n",
    "        request.response_data.value = request.request_data.name\n",
    "\n",
    "        request.response_data.value += \" from OneMiddleware\"\n",
    "\n",
    "        result = await next_call(request)\n",
    "\n",
    "        return result\n",
    "\n",
    "\n",
    "class TwoMiddleware(MiddlewareBase[Request]):\n",
    "    async def handle(\n",
    "        self, request: Request, next_call: MiddlewareNextCallBase[Request]\n",
    "    ) -> Request:\n",
    "        request.response_data.value += \" from TwoMiddleware\"\n",
    "\n",
    "        result = await next_call(request)\n",
    "\n",
    "        return result\n",
    "\n",
    "\n",
    "# add the trait mixin\n",
    "class App(DataStructurable, MiddlewareableBase[Request]):\n",
    "    middlewares = [OneMiddleware, TwoMiddleware]\n",
    "\n",
    "\n",
    "# middlewareable\n",
    "app = App()\n",
    "\n",
    "# request\n",
    "request = Request(\n",
    "    request_data=RequestData(name=\"John\"),\n",
    "    response_data=ResponseData(),\n",
    "    transport_data=TransportDataBase(),\n",
    ")\n",
    "\n",
    "# process request\n",
    "result = await app.process_middlewares(request)\n",
    "\n",
    "# check the result\n",
    "print(result)\n",
    "\n",
    "# output:\n",
    "# Request(\n",
    "#   request_data=RequestData(name='John'),\n",
    "#   response_data=ResponseData(value='John from OneMiddleware from TwoMiddleware'),\n",
    "#   transport_data=TransportDataBase(),\n",
    "# )"
   ]
  }
 ],
 "metadata": {
  "kernelspec": {
   "display_name": "myenv",
   "language": "python",
   "name": "python3"
  },
  "language_info": {
   "codemirror_mode": {
    "name": "ipython",
    "version": 3
   },
   "file_extension": ".py",
   "mimetype": "text/x-python",
   "name": "python",
   "nbconvert_exporter": "python",
   "pygments_lexer": "ipython3",
   "version": "3.11.9"
  }
 },
 "nbformat": 4,
 "nbformat_minor": 2
}
