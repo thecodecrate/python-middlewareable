{
 "cells": [
  {
   "cell_type": "markdown",
   "metadata": {},
   "source": [
    "# Trait `DataStructurable`"
   ]
  },
  {
   "cell_type": "code",
   "execution_count": 1,
   "metadata": {},
   "outputs": [
    {
     "name": "stdout",
     "output_type": "stream",
     "text": [
      "Request(request_data=PayloadData(name='John'), response_data=ResponseData(data='John from OneMiddleware'), transport_data=<python_middlewareable.traits.data_structurable.dtos.transport_data.TransportData object at 0x78339c308e90>)\n"
     ]
    }
   ],
   "source": [
    "# import classes\n",
    "from dataclasses import dataclass\n",
    "from python_middlewareable import (\n",
    "    RequestBase,\n",
    "    MiddlewareBase,\n",
    "    MiddlewareNextCallBase,\n",
    "    MiddlewareableBase,\n",
    "    DataStructurableRequestMixin,\n",
    "    DataStructurable,\n",
    "    RequestDataBase,\n",
    "    ResponseDataBase,\n",
    "    TransportDataBase,\n",
    ")\n",
    "\n",
    "\n",
    "# define the payload structure\n",
    "@dataclass\n",
    "class PayloadData(RequestDataBase):  # inherit from RequestDataBase\n",
    "    name: str\n",
    "\n",
    "\n",
    "# define the response structure\n",
    "@dataclass\n",
    "class ResponseData(ResponseDataBase):  # inherit from ResponseDataBase\n",
    "    data: str = \"\"\n",
    "\n",
    "\n",
    "# add the `DataStructurableRequestMixin` to the request class\n",
    "@dataclass\n",
    "class Request(\n",
    "    DataStructurableRequestMixin[PayloadData, ResponseData, TransportDataBase],\n",
    "    RequestBase,\n",
    "):\n",
    "    pass\n",
    "\n",
    "\n",
    "# create a middleware\n",
    "class OneMiddleware(MiddlewareBase[Request]):\n",
    "    async def handle(\n",
    "        self, request: Request, next_call: MiddlewareNextCallBase[Request]\n",
    "    ) -> None:\n",
    "        await next_call(request)\n",
    "\n",
    "        request.response_data.data += request.request_data.name + \" from OneMiddleware\"\n",
    "\n",
    "\n",
    "# add the trait mixin\n",
    "class App(DataStructurable, MiddlewareableBase[Request]):\n",
    "    middlewares = [OneMiddleware]\n",
    "\n",
    "\n",
    "# middlewareable\n",
    "app = App()\n",
    "\n",
    "# request\n",
    "request = Request(\n",
    "    request_data=PayloadData(name=\"John\"),\n",
    "    response_data=ResponseData(),\n",
    "    transport_data=TransportDataBase(),\n",
    ")\n",
    "\n",
    "# process request\n",
    "result = await app.process_middlewares(request)\n",
    "\n",
    "# check the result\n",
    "print(result)\n",
    "\n",
    "# output:\n",
    "# Request(\n",
    "#   request_data=PayloadData(name='John'),\n",
    "#   response_data=ResponseData(data='John from OneMiddleware'),\n",
    "#   transport_data=TransportDataBase(),\n",
    "# )"
   ]
  }
 ],
 "metadata": {
  "kernelspec": {
   "display_name": "myenv",
   "language": "python",
   "name": "python3"
  },
  "language_info": {
   "codemirror_mode": {
    "name": "ipython",
    "version": 3
   },
   "file_extension": ".py",
   "mimetype": "text/x-python",
   "name": "python",
   "nbconvert_exporter": "python",
   "pygments_lexer": "ipython3",
   "version": "3.11.9"
  }
 },
 "nbformat": 4,
 "nbformat_minor": 2
}
