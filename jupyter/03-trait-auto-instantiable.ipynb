{
 "cells": [
  {
   "cell_type": "markdown",
   "metadata": {},
   "source": [
    "# Trait `AutoInstantiable`"
   ]
  },
  {
   "cell_type": "code",
   "execution_count": 1,
   "metadata": {},
   "outputs": [
    {
     "name": "stdout",
     "output_type": "stream",
     "text": [
      "ResponseData(value='John from OneMiddleware')\n"
     ]
    }
   ],
   "source": [
    "# import classes\n",
    "from dataclasses import dataclass\n",
    "from python_middlewareable import (\n",
    "    RequestBase,\n",
    "    MiddlewareBase,\n",
    "    MiddlewareNextCallBase,\n",
    "    MiddlewareableBase,\n",
    "    DataStructurableRequestMixin,\n",
    "    RequestDataBase,\n",
    "    ResponseDataBase,\n",
    "    TransportDataBase,\n",
    "    AutoInstantiable,\n",
    ")\n",
    "\n",
    "\n",
    "# define the payload structure\n",
    "@dataclass\n",
    "class PayloadData(RequestDataBase):  # inherit from RequestDataBase\n",
    "    name: str\n",
    "\n",
    "\n",
    "# define the response structure\n",
    "@dataclass\n",
    "class ResponseData(ResponseDataBase):  # inherit from ResponseDataBase\n",
    "    value: str = \"\"\n",
    "\n",
    "\n",
    "# add the `DataStructurableRequestMixin` to the request class\n",
    "@dataclass\n",
    "class Request(\n",
    "    DataStructurableRequestMixin[PayloadData, ResponseData, TransportDataBase],\n",
    "    RequestBase,\n",
    "):\n",
    "    pass\n",
    "\n",
    "\n",
    "# create a middleware\n",
    "class OneMiddleware(MiddlewareBase[Request]):\n",
    "    async def handle(\n",
    "        self, request: Request, next_call: MiddlewareNextCallBase[Request]\n",
    "    ) -> None:\n",
    "        await next_call(request)\n",
    "\n",
    "        request.response_data.value += request.request_data.name + \" from OneMiddleware\"\n",
    "\n",
    "\n",
    "# add `AutoInstantiable` to the middlewareable\n",
    "class App(\n",
    "    AutoInstantiable[Request, ResponseData, TransportDataBase],\n",
    "    MiddlewareableBase[Request],\n",
    "):\n",
    "    middlewares = [OneMiddleware]\n",
    "\n",
    "    # same classes passed to \"AutoInstantiable\" above\n",
    "    request_class = Request\n",
    "    response_data_class = ResponseData\n",
    "    transport_data_class = TransportDataBase\n",
    "\n",
    "\n",
    "# middlewareable\n",
    "app = App()\n",
    "\n",
    "# process request\n",
    "result = await app.process_middlewares_from_payload(data=PayloadData(name=\"John\"))\n",
    "\n",
    "# check the result\n",
    "print(result)\n",
    "\n",
    "# output:\n",
    "# ResponseData(data='John from OneMiddleware')"
   ]
  }
 ],
 "metadata": {
  "kernelspec": {
   "display_name": "myenv",
   "language": "python",
   "name": "python3"
  },
  "language_info": {
   "codemirror_mode": {
    "name": "ipython",
    "version": 3
   },
   "file_extension": ".py",
   "mimetype": "text/x-python",
   "name": "python",
   "nbconvert_exporter": "python",
   "pygments_lexer": "ipython3",
   "version": "3.11.9"
  }
 },
 "nbformat": 4,
 "nbformat_minor": 2
}
