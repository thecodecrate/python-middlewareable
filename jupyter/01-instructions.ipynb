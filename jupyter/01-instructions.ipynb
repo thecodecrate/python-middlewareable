{
 "cells": [
  {
   "cell_type": "markdown",
   "metadata": {},
   "source": [
    "## Usage"
   ]
  },
  {
   "cell_type": "code",
   "execution_count": 4,
   "metadata": {},
   "outputs": [
    {
     "name": "stdout",
     "output_type": "stream",
     "text": [
      "11\n",
      "15\n"
     ]
    }
   ],
   "source": [
    "from python_middlewareable import MiddlewarePipeline\n",
    "\n",
    "pipeline = (\n",
    "    (MiddlewarePipeline[int]())\n",
    "    .pipe(lambda x, next_call: next_call(x + 1))\n",
    "    .pipe(lambda x, next_call: next_call(x * 2))\n",
    "    .pipe(lambda x, next_call: next_call(x + 3))\n",
    ")\n",
    "\n",
    "# output: 11\n",
    "print(await pipeline.process(3))\n",
    "\n",
    "# output: 15\n",
    "print(await pipeline.process(5))"
   ]
  },
  {
   "cell_type": "code",
   "execution_count": 5,
   "metadata": {},
   "outputs": [
    {
     "name": "stdout",
     "output_type": "stream",
     "text": [
      "12\n",
      "8\n"
     ]
    }
   ],
   "source": [
    "##\n",
    "# Using the same processor for multiple pipelines\n",
    "##\n",
    "from python_middlewareable import MiddlewarePipeline, MiddlewareProcessor, MiddlewareCallable\n",
    "\n",
    "# Initialize the processor\n",
    "processor = MiddlewareProcessor()\n",
    "\n",
    "# Define stages with type hints\n",
    "stage1: MiddlewareCallable[int, int] = lambda x, next_call: next_call(x + 1)\n",
    "stage2: MiddlewareCallable[int, int] = lambda x, next_call: next_call(x * 2)\n",
    "stage3: MiddlewareCallable[int, int] = lambda x, next_call: next_call(x + 3)\n",
    "\n",
    "# Create pipelines that use the same processor\n",
    "pipeline1 = MiddlewarePipeline(processor=processor).pipe(stage1).pipe(stage2)\n",
    "pipeline2 = MiddlewarePipeline(processor=processor).pipe(stage3)\n",
    "\n",
    "# Process payloads\n",
    "result1 = await pipeline1.process(5)\n",
    "result2 = await pipeline2.process(5)\n",
    "\n",
    "# output: 12\n",
    "print(result1)\n",
    "\n",
    "# output: 8\n",
    "print(result2)"
   ]
  },
  {
   "cell_type": "code",
   "execution_count": 6,
   "metadata": {},
   "outputs": [
    {
     "name": "stdout",
     "output_type": "stream",
     "text": [
      "OneMiddleware before\n",
      "OneMiddleware after\n",
      "Request(value='Hello from OneMiddleware')\n"
     ]
    }
   ],
   "source": [
    "# import classes\n",
    "from dataclasses import dataclass\n",
    "from python_middlewareable import (\n",
    "    MiddlewareStage,\n",
    "    MiddlewareNextCall,\n",
    "    MiddlewarePipeline,\n",
    ")\n",
    "\n",
    "\n",
    "# define a payload\n",
    "@dataclass\n",
    "class Request:\n",
    "    value: str\n",
    "\n",
    "\n",
    "# create a middleware\n",
    "class OneMiddleware(MiddlewareStage[Request]):\n",
    "    async def handle(\n",
    "        self,\n",
    "        request: Request,\n",
    "        next_call: MiddlewareNextCall,\n",
    "    ) -> Request:\n",
    "        # do something before the next middleware\n",
    "        print(\"OneMiddleware before\")\n",
    "\n",
    "        # call the next middleware\n",
    "        result = await next_call(request)\n",
    "\n",
    "        # do something after the next middleware\n",
    "        print(\"OneMiddleware after\")\n",
    "        request.value = request.value + \" from OneMiddleware\"\n",
    "\n",
    "        return result\n",
    "\n",
    "\n",
    "# add the `middlewarePipeline` mixin to the class that will use the middleware\n",
    "class App(MiddlewarePipeline[Request]):\n",
    "    stages = [OneMiddleware]\n",
    "\n",
    "\n",
    "# instantiate and use it\n",
    "app = App()\n",
    "request = Request(value=\"Hello\")\n",
    "response = await app.process(request)\n",
    "\n",
    "# check the result\n",
    "print(response)\n",
    "\n",
    "# output:\n",
    "# OneMiddleware before\n",
    "# OneMiddleware after\n",
    "# Request(value='Hello from OneMiddleware')"
   ]
  }
 ],
 "metadata": {
  "kernelspec": {
   "display_name": "venv",
   "language": "python",
   "name": "python3"
  },
  "language_info": {
   "codemirror_mode": {
    "name": "ipython",
    "version": 3
   },
   "file_extension": ".py",
   "mimetype": "text/x-python",
   "name": "python",
   "nbconvert_exporter": "python",
   "pygments_lexer": "ipython3",
   "version": "3.13.0"
  }
 },
 "nbformat": 4,
 "nbformat_minor": 2
}
